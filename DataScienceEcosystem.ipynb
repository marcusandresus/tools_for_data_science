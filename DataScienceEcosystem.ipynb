{
 "cells": [
  {
   "cell_type": "markdown",
   "id": "443e1490-5a0e-44ea-a7b1-7fc2af240763",
   "metadata": {},
   "source": [
    "# Data Science Tools and Ecosystem"
   ]
  },
  {
   "cell_type": "markdown",
   "id": "47376165-52ac-4240-93bf-800d0633395a",
   "metadata": {},
   "source": [
    "In this notebook, Data Science Tools and Ecosystem are summarized."
   ]
  },
  {
   "cell_type": "markdown",
   "id": "fd01ed53-8d81-49bb-8b18-ecc8f84a36c0",
   "metadata": {},
   "source": [
    "Objectives:\n",
    "\n",
    "* List popular languages for Data Science\n",
    "* List popular Data Science libraries\n",
    "* Table with popular Data Science Tools\n",
    "* Use code cells for arithmetic evaluation"
   ]
  },
  {
   "cell_type": "markdown",
   "id": "048be18f-3861-4cbb-8578-fb1057c95997",
   "metadata": {},
   "source": [
    "Some of the popular languages that Data Scientists use are:\n",
    "\n",
    "1. Python\n",
    "2. R\n",
    "3. SQL\n",
    "4. Java\n",
    "5. Scala\n",
    "6. Julia"
   ]
  },
  {
   "cell_type": "markdown",
   "id": "7d75288c-5a40-4f58-83a2-e3beacb9a5dd",
   "metadata": {},
   "source": [
    "Some of the commonly used libraries used by Data Scientists include:\n",
    "\n",
    "1. NumPy\n",
    "2. Pandas\n",
    "3. Scikit-learn\n",
    "4. Matplotlib\n",
    "5. PyTorch"
   ]
  },
  {
   "cell_type": "markdown",
   "id": "302316f7-c969-4fd5-bd96-bad3788a9c6a",
   "metadata": {},
   "source": [
    "|Data Science Tools|\n",
    "|------------------|\n",
    "|Apache Spark      |\n",
    "|Apache Hadoop     |\n",
    "|TensorFlow        |\n",
    "|Ggplot2           |\n",
    "|Jupyter Notebooks |\n"
   ]
  },
  {
   "cell_type": "markdown",
   "id": "1a3932b2-c351-4e98-924b-7e0c8c75d6ed",
   "metadata": {},
   "source": [
    "### Below are a few examples of evaluating arithmetic expressions in Python"
   ]
  },
  {
   "cell_type": "code",
   "execution_count": 8,
   "id": "b9884190-171c-41fe-96d4-f4b5b163aff5",
   "metadata": {},
   "outputs": [
    {
     "data": {
      "text/plain": [
       "17"
      ]
     },
     "execution_count": 8,
     "metadata": {},
     "output_type": "execute_result"
    }
   ],
   "source": [
    "# This a simple arithmetic expression to mutiply then add integers\n",
    "(3*4)+5"
   ]
  },
  {
   "cell_type": "code",
   "execution_count": 10,
   "id": "ec498c2e-6d2b-4e55-86b8-9f39222b7fe1",
   "metadata": {},
   "outputs": [
    {
     "data": {
      "text/plain": [
       "3.3333333333333335"
      ]
     },
     "execution_count": 10,
     "metadata": {},
     "output_type": "execute_result"
    }
   ],
   "source": [
    "# This will convert 200 minutes to hours by diving by 60\n",
    "minutes = 200\n",
    "minutes / 60"
   ]
  },
  {
   "cell_type": "markdown",
   "id": "4e13a632-6bf9-4c51-a174-8397a349eeb5",
   "metadata": {},
   "source": [
    "## Author\n",
    "\n",
    "Marco Gonzalez"
   ]
  }
 ],
 "metadata": {
  "kernelspec": {
   "display_name": "Python [conda env:base] *",
   "language": "python",
   "name": "conda-base-py"
  },
  "language_info": {
   "codemirror_mode": {
    "name": "ipython",
    "version": 3
   },
   "file_extension": ".py",
   "mimetype": "text/x-python",
   "name": "python",
   "nbconvert_exporter": "python",
   "pygments_lexer": "ipython3",
   "version": "3.12.7"
  }
 },
 "nbformat": 4,
 "nbformat_minor": 5
}
